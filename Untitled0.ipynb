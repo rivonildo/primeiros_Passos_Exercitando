{
  "cells": [
    {
      "cell_type": "markdown",
      "metadata": {
        "id": "view-in-github",
        "colab_type": "text"
      },
      "source": [
        "<a href=\"https://colab.research.google.com/github/rivonildo/primeiros_Passos_Exercitando/blob/main/Untitled0.ipynb\" target=\"_parent\"><img src=\"https://colab.research.google.com/assets/colab-badge.svg\" alt=\"Open In Colab\"/></a>"
      ]
    },
    {
      "cell_type": "code",
      "execution_count": 2,
      "metadata": {
        "colab": {
          "base_uri": "https://localhost:8080/"
        },
        "id": "67nFx0xk1zus",
        "outputId": "53587c51-9140-4f84-9d49-e9832b8055e2"
      },
      "outputs": [
        {
          "output_type": "stream",
          "name": "stdout",
          "text": [
            "Digite seu nome de usuário: rivonildo\n",
            "Digite sua senha: 12345\n",
            "Nome de usuário ou senha incorretos. Tente novamente.\n"
          ]
        }
      ],
      "source": [
        "def login():\n",
        "    # Dicionário de usuários e senhas (simulado)\n",
        "    usuarios = {'edilma': '12345', 'moises': '123456', 'vitor': '123456789'}\n",
        "\n",
        "    # Solicitar que o usuário insira seu nome de usuário e senha\n",
        "    usuario = input(\"Digite seu nome de usuário: \")\n",
        "    senha = input(\"Digite sua senha: \")\n",
        "\n",
        "    # Verificar se o usuário existe e se a senha está correta\n",
        "    if usuario in usuarios and usuarios[usuario] == senha:\n",
        "        print(\"Login bem-sucedido! Bem-vindo,\", usuario)\n",
        "    else:\n",
        "        print(\"Nome de usuário ou senha incorretos. Tente novamente.\")\n",
        "\n",
        "# Chamar a função de login\n",
        "login()\n"
      ]
    },
    {
      "cell_type": "code",
      "source": [
        "def jogo():\n",
        "  marcas_bolas = {\"penalt\": \"01\", \"adidas\": \"02\", \"nike\": \"03\"}\n",
        "\n",
        "  marca = input(\"digite a marca da bola: \")\n",
        "  numero = input(\"digite o numero: \")\n",
        "\n",
        "  if marca in marcas_bolas and marcas_bolas[marca] == numero:\n",
        "    print(\"marca top\")\n",
        "\n",
        "  else:\n",
        "    print(\"nao\")\n",
        "\n",
        "\n",
        "jogo()"
      ],
      "metadata": {
        "id": "ZRZTRlK68zaT",
        "colab": {
          "base_uri": "https://localhost:8080/"
        },
        "outputId": "9768dd86-24bf-4a8e-bc44-f7bdb45b7a66"
      },
      "execution_count": 3,
      "outputs": [
        {
          "output_type": "stream",
          "name": "stdout",
          "text": [
            "digite a marca da bola: penalt\n",
            "digite o numero: 10\n",
            "nao\n"
          ]
        }
      ]
    },
    {
      "cell_type": "code",
      "source": [],
      "metadata": {
        "id": "wMPUcPUuU0Qv"
      },
      "execution_count": 3,
      "outputs": []
    },
    {
      "cell_type": "code",
      "execution_count": 4,
      "metadata": {
        "id": "u-x5fxUrCQJB",
        "colab": {
          "base_uri": "https://localhost:8080/"
        },
        "outputId": "25c0d167-3670-44fa-c8bb-2bf8960025c2"
      },
      "outputs": [
        {
          "output_type": "stream",
          "name": "stdout",
          "text": [
            " true \n"
          ]
        }
      ],
      "source": [
        "def atualizar():\n",
        "\n",
        "\n",
        " resetar = \"cinebox\"\n",
        " versao = 5.0\n",
        "\n",
        " if resetar == \"cinebox\" or versao == 3.0:\n",
        "   print(\" true \")\n",
        "\n",
        " else:\n",
        "  print(\"false\")\n",
        "\n",
        "\n",
        "atualizar()\n"
      ]
    },
    {
      "cell_type": "code",
      "execution_count": 4,
      "metadata": {
        "id": "jguWR6M2CQPk"
      },
      "outputs": [],
      "source": []
    },
    {
      "cell_type": "code",
      "execution_count": 5,
      "metadata": {
        "id": "sh3GqWfPCQUh",
        "colab": {
          "base_uri": "https://localhost:8080/"
        },
        "outputId": "74c14056-0141-4641-843d-a2aab8f200ab"
      },
      "outputs": [
        {
          "output_type": "stream",
          "name": "stdout",
          "text": [
            " true \n"
          ]
        }
      ],
      "source": [
        "atualizar()\n"
      ]
    },
    {
      "cell_type": "code",
      "execution_count": 30,
      "metadata": {
        "id": "sxKMXxHHCQaM"
      },
      "outputs": [],
      "source": [
        "def myName(nome):\n",
        "\n",
        "\n",
        " contador = 0  # Initialize the counter\n",
        " while True:\n",
        "    myName(\"Rivonildo\")\n",
        "    contador += 1  # Increment the counter by 1 each iteration of the loop\n",
        "    if contador > 3:\n",
        "      print(myName)  # Break the loop after 5 iterations\n",
        "      break"
      ]
    },
    {
      "cell_type": "code",
      "execution_count": 16,
      "metadata": {
        "colab": {
          "base_uri": "https://localhost:8080/"
        },
        "id": "tWzd8ZNGeEV7",
        "outputId": "dc649b6f-6802-482c-e6d7-80a5be8799ae"
      },
      "outputs": [
        {
          "output_type": "stream",
          "name": "stdout",
          "text": [
            "luis acordou 2 horas da manhã chorando o que fazer para ele parar de chorar? \n",
            " opçoes;\n",
            " 1 mae\n",
            " 2 pai\n",
            " 3 moises \n",
            " 4 vitor\n",
            "vitor\n",
            "nao parou de chorar vitor nao pode pegar-lo\n"
          ]
        }
      ],
      "source": [
        "luis = input(\"luis acordou 2 horas da manhã chorando o que fazer para ele parar de chorar? \\n opçoes;\\n 1 mae\\n 2 pai\\n 3 moises \\n 4 vitor\\n\")\n",
        "\n",
        "if luis == \"mae\":\n",
        "  print(\"parou de chorar\")\n",
        "elif luis == \"vitor\":\n",
        "   print(\"nao parou de chorar vitor nao pode pegar-lo\")\n",
        "elif luis == \"moises\":\n",
        "     print(\"nao parou de chorar moises esta 😴\")\n",
        "else:\n",
        "     print(\"nao parou de chorar\")\n",
        "\n",
        "\n",
        "\n"
      ]
    },
    {
      "cell_type": "code",
      "execution_count": null,
      "metadata": {
        "id": "837bS5wm4iVJ"
      },
      "outputs": [],
      "source": [
        "print(luis)"
      ]
    },
    {
      "cell_type": "code",
      "execution_count": 17,
      "metadata": {
        "id": "q70DDmc21Y8v",
        "colab": {
          "base_uri": "https://localhost:8080/"
        },
        "outputId": "8cc7f2b3-95f9-4d8c-b42b-9a56ebdb03c4"
      },
      "outputs": [
        {
          "output_type": "stream",
          "name": "stdout",
          "text": [
            "luis acordou 2 horas da manhã chorando o que fazer para ele parar de chorar? \n",
            " opçoes;\n",
            " 1 mae\n",
            " 2 pai\n",
            " 3 moises \n",
            " 4 vitor\n",
            "vitor\n",
            "nao parou de chorar vitor nao pode pegar-lo\n"
          ]
        }
      ],
      "source": [
        "luis = input(\"luis acordou 2 horas da manhã chorando o que fazer para ele parar de chorar? \\n opçoes;\\n 1 mae\\n 2 pai\\n 3 moises \\n 4 vitor\\n\")\n",
        "\n",
        "if luis == \"mae\":\n",
        "  print(\"parou de chorar\")\n",
        "elif luis == \"vitor\":\n",
        "   print(\"nao parou de chorar vitor nao pode pegar-lo\")\n",
        "elif luis == \"moises\":\n",
        "     print(\"nao parou de chorar moises esta 😴\")\n",
        "else:\n",
        "     print(\"nao parou de chorar\")\n",
        "\n",
        "\n",
        "\n",
        "pagamento = 1\n",
        "pagamento2 = 2"
      ]
    },
    {
      "cell_type": "code",
      "execution_count": null,
      "metadata": {
        "id": "kzRhwcOr1ZM_"
      },
      "outputs": [],
      "source": [
        "resposta = int(input('ola tudo bem\\ncomo podemos ajudar? \\n 1 realizar pagamento \\n 2 compras \\n 3 suporte \\n 4 falar com atendente \\n'))\n",
        "\n",
        "if resposta == 1:\n",
        "  pagamento = input('formas de pagamento \\n 1 via pix \\n 2 cartao de credito \\n')\n",
        "\n",
        "if pagamento == 1:\n",
        "    print('pix telefone 74999140924')\n",
        "\n",
        "elif pagamento == 2:\n",
        "    print('cole')"
      ]
    },
    {
      "cell_type": "code",
      "execution_count": null,
      "metadata": {
        "id": "86pRr7PkM16_"
      },
      "outputs": [],
      "source": [
        "# Variáveis para representar o clima\n",
        "sol = True\n",
        "chuva = False\n",
        "\n",
        "# Condição com operador and: Ir à praia se tiver sol e não estiver chovendo\n",
        "if sol and not chuva:\n",
        "    print(\"Vamos à praia!\")\n",
        "\n",
        "# Condição com operador or: Ir à praia se tiver sol ou se estiver chovendo\n",
        "if sol or chuva:\n",
        "    print(\"Vamos à praia de qualquer jeito!\")\n",
        "else:\n",
        "    print(\"Ficamos em casa.\")\n"
      ]
    },
    {
      "cell_type": "code",
      "execution_count": null,
      "metadata": {
        "id": "j1zYzdnn1ZeP"
      },
      "outputs": [],
      "source": [
        "print(pagamento)"
      ]
    },
    {
      "cell_type": "code",
      "execution_count": null,
      "metadata": {
        "id": "CIbveB4jiL82"
      },
      "outputs": [],
      "source": [
        "casa = [1, 2, 3, 4, 5, 6], [7, 8, 9, 10]"
      ]
    },
    {
      "cell_type": "code",
      "execution_count": null,
      "metadata": {
        "id": "9kJ3v3ApjBf8"
      },
      "outputs": [],
      "source": [
        "list[0],[0]"
      ]
    },
    {
      "cell_type": "code",
      "execution_count": null,
      "metadata": {
        "id": "aeUuFOLXjBmO"
      },
      "outputs": [],
      "source": [
        "print(casa[2])"
      ]
    },
    {
      "cell_type": "code",
      "execution_count": null,
      "metadata": {
        "id": "bCdCggpdiMQM"
      },
      "outputs": [],
      "source": [
        "(casa or idade)"
      ]
    },
    {
      "cell_type": "code",
      "execution_count": null,
      "metadata": {
        "id": "ga1vnDNt8qEg"
      },
      "outputs": [],
      "source": [
        "type(idade)"
      ]
    },
    {
      "cell_type": "code",
      "execution_count": null,
      "metadata": {
        "id": "PCDpSPr5fE8g"
      },
      "outputs": [],
      "source": [
        "nome = \"ceu\"\n",
        "print(idade)"
      ]
    },
    {
      "cell_type": "code",
      "execution_count": null,
      "metadata": {
        "id": "FufHSYi5fa40"
      },
      "outputs": [],
      "source": [
        "print(nome)"
      ]
    },
    {
      "cell_type": "code",
      "execution_count": null,
      "metadata": {
        "id": "weaJcOp5KULl"
      },
      "outputs": [],
      "source": [
        "cor = \"amarelo\"\n",
        "\n",
        "if cor == \"verde\":\n",
        "  print(\"a tv funciona\")\n",
        "\n",
        "elif  cor == \"vermelha\":\n",
        "  print (\" funciona mais nao apareçe imagem\")\n",
        "\n",
        "else:\n",
        "  print (\"nao funciona \")"
      ]
    },
    {
      "cell_type": "code",
      "execution_count": null,
      "metadata": {
        "id": "weqKskXt9CVP"
      },
      "outputs": [],
      "source": [
        "valor_placa = 200\n",
        "valor_bateria =300\n",
        "caixa = 300\n",
        "if valor_placa + valor_bateria < caixa:\n",
        "  print( \"podemos comprar o kit!\")\n",
        "else:\n",
        "  print(\"nao podemos comprar o kit!\")"
      ]
    },
    {
      "cell_type": "code",
      "execution_count": null,
      "metadata": {
        "id": "EK83FQ-p_UBF"
      },
      "outputs": [],
      "source": [
        "valor_edilma = 2000\n",
        "valor_velha = 2600\n",
        "if valor_edilma < valor_velha:\n",
        "  print(\"conta nao quitada!\")\n",
        "else:\n",
        "  print(\"conta quitada!\")\n"
      ]
    },
    {
      "cell_type": "code",
      "execution_count": null,
      "metadata": {
        "id": "svnyc7acrA2r"
      },
      "outputs": [],
      "source": [
        "luiz = 90\n",
        "moises = 100\n",
        "if moises != luiz:\n",
        "  print(\"ceu Azul\")\n",
        "else:\n",
        "   print(\"ceu estrela\")"
      ]
    },
    {
      "cell_type": "code",
      "execution_count": null,
      "metadata": {
        "id": "vKY6GK3t_PLc"
      },
      "outputs": [],
      "source": [
        "bota ="
      ]
    },
    {
      "cell_type": "code",
      "execution_count": null,
      "metadata": {
        "id": "a14GFkG2NSMn"
      },
      "outputs": [],
      "source": [
        "print (\"hellow word!\")"
      ]
    },
    {
      "cell_type": "code",
      "execution_count": null,
      "metadata": {
        "id": "yRp0F-3crIIt"
      },
      "outputs": [],
      "source": [
        "bota = 10\n",
        "calçado = 10\n",
        "\n",
        "if calçado == 10:\n",
        " print(\"a minha \")"
      ]
    },
    {
      "cell_type": "code",
      "execution_count": null,
      "metadata": {
        "id": "8shtbs3yBVFV"
      },
      "outputs": [],
      "source": [
        "\n",
        "for i in range(8):\n",
        "  time.sleep(5)\n",
        "  print(\"bola\")\n"
      ]
    },
    {
      "cell_type": "code",
      "execution_count": null,
      "metadata": {
        "id": "4je5r4pvDK-c"
      },
      "outputs": [],
      "source": [
        "for g in range(5):\n",
        "print(g)"
      ]
    },
    {
      "cell_type": "code",
      "execution_count": null,
      "metadata": {
        "id": "NWnO1qG05pdY"
      },
      "outputs": [],
      "source": [
        "import pyautogui\n"
      ]
    },
    {
      "cell_type": "code",
      "execution_count": null,
      "metadata": {
        "id": "dtGjesSoGm9Q"
      },
      "outputs": [],
      "source": [
        "import time\n",
        "contador = 0\n",
        "while contador < 10:\n",
        "  contador = contador + 1\n",
        "  print(\"molhar plantas\")\n",
        "  if contador == 6:\n",
        "    break\n",
        "  time.sleep(3)\n",
        "for i in range(5):\n",
        "  time.sleep(3)\n",
        "  print(\"moises\")"
      ]
    },
    {
      "cell_type": "code",
      "execution_count": null,
      "metadata": {
        "id": "1V7dRXJgF9yK"
      },
      "outputs": [],
      "source": [
        "import datetime\n",
        "datetime.date.today()"
      ]
    },
    {
      "cell_type": "code",
      "execution_count": null,
      "metadata": {
        "id": "tVe4lMsmPhpL"
      },
      "outputs": [],
      "source": [
        "import datetime\n",
        "datetime.date.today()"
      ]
    },
    {
      "cell_type": "code",
      "execution_count": null,
      "metadata": {
        "id": "-nwsFojzhMHn"
      },
      "outputs": [],
      "source": [
        "import datetime\n",
        "datetime.date.today()"
      ]
    },
    {
      "cell_type": "code",
      "execution_count": null,
      "metadata": {
        "id": "hURKsku1hhx5"
      },
      "outputs": [],
      "source": [
        "casa = (int)"
      ]
    },
    {
      "cell_type": "code",
      "execution_count": null,
      "metadata": {
        "id": "7P2P7QoAlU-Z"
      },
      "outputs": [],
      "source": [
        "import datetime\n",
        "datatime.date.today()"
      ]
    },
    {
      "cell_type": "markdown",
      "metadata": {
        "id": "EggpzeRTgIoY"
      },
      "source": []
    },
    {
      "cell_type": "code",
      "execution_count": null,
      "metadata": {
        "id": "LM7N7uMqmIpc"
      },
      "outputs": [],
      "source": [
        "cor = \"amarelo\""
      ]
    },
    {
      "cell_type": "code",
      "execution_count": null,
      "metadata": {
        "id": "CIQ_tQnMpfT1"
      },
      "outputs": [],
      "source": []
    },
    {
      "cell_type": "code",
      "execution_count": null,
      "metadata": {
        "id": "bwqdNRUpmp5B"
      },
      "outputs": [],
      "source": [
        "if cor == \"amarelo\":\n",
        "  print (\"verdadeiro\")\n",
        "\n"
      ]
    },
    {
      "cell_type": "code",
      "execution_count": null,
      "metadata": {
        "id": "kF6V6-EXpqs1"
      },
      "outputs": [],
      "source": [
        "lista1 = [[1, 2, 3], [2, 3, 4],[3, 4, 5]]"
      ]
    },
    {
      "cell_type": "code",
      "execution_count": null,
      "metadata": {
        "id": "iQQDiRymrfBr"
      },
      "outputs": [],
      "source": [
        "lista2 = [5, 6, 7], [7, 8, 9],[7,8,9]"
      ]
    },
    {
      "cell_type": "code",
      "execution_count": null,
      "metadata": {
        "id": "Y0-OLZl3p9_D"
      },
      "outputs": [],
      "source": [
        "lista2[2],lista1[1]"
      ]
    },
    {
      "cell_type": "code",
      "execution_count": null,
      "metadata": {
        "id": "0kM2OYQOuP9u"
      },
      "outputs": [],
      "source": [
        "select = lista2[2][1]"
      ]
    },
    {
      "cell_type": "code",
      "execution_count": null,
      "metadata": {
        "id": "-6r34Ce_-EJU"
      },
      "outputs": [],
      "source": [
        "print(select)"
      ]
    },
    {
      "cell_type": "code",
      "execution_count": null,
      "metadata": {
        "id": "QyAhSSYkBLfM"
      },
      "outputs": [],
      "source": [
        "import = random\n",
        "cidades = [\"sao paulo\", \"xique xique\", \"salvador\"]\n",
        "escolhida = random.choiçe(cidades)\n",
        "print(\"a cidede escolhida e:\",cidade)"
      ]
    },
    {
      "cell_type": "code",
      "execution_count": null,
      "metadata": {
        "id": "U12pyyrkElTw"
      },
      "outputs": [],
      "source": [
        "a = [3, 4, 5]"
      ]
    },
    {
      "cell_type": "code",
      "execution_count": null,
      "metadata": {
        "id": "Zivp4hGSE02v"
      },
      "outputs": [],
      "source": [
        "a.append(6)"
      ]
    },
    {
      "cell_type": "code",
      "execution_count": null,
      "metadata": {
        "id": "mzeb0_ScE-mT"
      },
      "outputs": [],
      "source": [
        "print(a)"
      ]
    },
    {
      "cell_type": "code",
      "execution_count": null,
      "metadata": {
        "id": "BXXeQGWkFCet"
      },
      "outputs": [],
      "source": [
        "b = [7, 8, 9,]"
      ]
    },
    {
      "cell_type": "code",
      "execution_count": null,
      "metadata": {
        "id": "w9hXRj46FJhm"
      },
      "outputs": [],
      "source": [
        "for item in b:\n",
        "  a.append(item)\n",
        "  time.sleep(1)\n",
        "  print(a)"
      ]
    },
    {
      "cell_type": "code",
      "execution_count": null,
      "metadata": {
        "id": "5SRxiAl6rMvh"
      },
      "outputs": [],
      "source": [
        "bola = 5\n",
        "chuteira = 70\n",
        "if chuteira < bola :\n",
        "  print(\" futebol \")\n",
        "else:\n",
        "  print(\" jogo \")"
      ]
    },
    {
      "cell_type": "code",
      "execution_count": null,
      "metadata": {
        "id": "8_4VLD5Dtw1n"
      },
      "outputs": [],
      "source": [
        "santos = 28\n",
        "bahia = 24\n",
        "if santos > bahia:\n",
        "  print(\"permanecerar na serie A\")\n",
        "else:\n",
        "  print(\"sera rebaixado\")\n"
      ]
    },
    {
      "cell_type": "code",
      "execution_count": null,
      "metadata": {
        "id": "kLlSYh-NtxH8"
      },
      "outputs": [],
      "source": [
        "import datetime\n",
        "datetime.date.today()"
      ]
    },
    {
      "cell_type": "code",
      "execution_count": null,
      "metadata": {
        "id": "wNkL1jgV5_-d"
      },
      "outputs": [],
      "source": [
        "lista10 = [4,5,6],[3,4,5]\n",
        "lista10.append[1],(3)\n",
        "print(lista10)"
      ]
    },
    {
      "cell_type": "code",
      "execution_count": null,
      "metadata": {
        "id": "QH4r-4iHwi-r"
      },
      "outputs": [],
      "source": [
        "import random\n",
        "cidades = [\"sao paulo\", \"salvador\", \"santos\", \"xique xique\"]\n",
        "escolhidas = random.choice(cidades)\n",
        "print(escolhidas)"
      ]
    },
    {
      "cell_type": "code",
      "execution_count": null,
      "metadata": {
        "id": "crYpXaUAzP02"
      },
      "outputs": [],
      "source": [
        "novas = [\"rio de janeiro\", \"fortaleza\"]"
      ]
    },
    {
      "cell_type": "code",
      "execution_count": null,
      "metadata": {
        "id": "XBa31gWd18OH"
      },
      "outputs": [],
      "source": [
        "cidades.extend(novas)\n",
        "print(cidades)"
      ]
    },
    {
      "cell_type": "code",
      "execution_count": null,
      "metadata": {
        "id": "dryhGccO0YC2"
      },
      "outputs": [],
      "source": [
        "print(cidades)"
      ]
    },
    {
      "cell_type": "code",
      "execution_count": null,
      "metadata": {
        "id": "C3MZx2IJ38cZ"
      },
      "outputs": [],
      "source": [
        "for item in novas:\n",
        "  cidades.append(item)\n",
        "  print(cidades)"
      ]
    },
    {
      "cell_type": "code",
      "execution_count": null,
      "metadata": {
        "id": "KKRGXD514egW"
      },
      "outputs": [],
      "source": [
        "dado = [\"ireçe\", \"baixa grande\"]\n",
        "piao = [\"rocado\", \"boa vista\"]"
      ]
    },
    {
      "cell_type": "code",
      "execution_count": null,
      "metadata": {
        "id": "421ITpNM46CY"
      },
      "outputs": [],
      "source": [
        "for item in piao:\n",
        "  dado.append(item)\n",
        "  print(dado)"
      ]
    },
    {
      "cell_type": "code",
      "execution_count": null,
      "metadata": {
        "id": "FSGsK4d55TvF"
      },
      "outputs": [],
      "source": [
        "print(dado)"
      ]
    },
    {
      "cell_type": "code",
      "execution_count": null,
      "metadata": {
        "id": "oo5LVGgM51BY"
      },
      "outputs": [],
      "source": [
        "dado[3][2]"
      ]
    },
    {
      "cell_type": "code",
      "execution_count": null,
      "metadata": {
        "id": "bniVyjL_6T6i"
      },
      "outputs": [],
      "source": [
        "type(dado)[0]"
      ]
    },
    {
      "cell_type": "code",
      "execution_count": null,
      "metadata": {
        "id": "lyjZcwWiHo4A"
      },
      "outputs": [],
      "source": [
        "select = [[1, 2, 3, 4,], [5, 6, 7,], [8, 9, 10,]]"
      ]
    },
    {
      "cell_type": "code",
      "execution_count": null,
      "metadata": {
        "id": "o9XQEoJcICyc"
      },
      "outputs": [],
      "source": [
        "print (select)"
      ]
    },
    {
      "cell_type": "code",
      "execution_count": null,
      "metadata": {
        "id": "u768sF3mIj1Q"
      },
      "outputs": [],
      "source": [
        "select1 = select[0]"
      ]
    },
    {
      "cell_type": "code",
      "execution_count": null,
      "metadata": {
        "id": "rt3yQGeAJHHF"
      },
      "outputs": [],
      "source": [
        "print(select1)"
      ]
    },
    {
      "cell_type": "code",
      "execution_count": null,
      "metadata": {
        "id": "OdeqDjm2JUEn"
      },
      "outputs": [],
      "source": [
        "type(select1)"
      ]
    },
    {
      "cell_type": "code",
      "execution_count": null,
      "metadata": {
        "id": "PDqflCj8Jo7Y"
      },
      "outputs": [],
      "source": [
        "select1 = (select)[0][2]"
      ]
    },
    {
      "cell_type": "code",
      "execution_count": null,
      "metadata": {
        "id": "m_oPv0IFJpCY"
      },
      "outputs": [],
      "source": [
        "print(select1)"
      ]
    },
    {
      "cell_type": "code",
      "execution_count": null,
      "metadata": {
        "id": "eMpCCdkHJpRW"
      },
      "outputs": [],
      "source": [
        "type(select1)"
      ]
    },
    {
      "cell_type": "code",
      "execution_count": null,
      "metadata": {
        "id": "PvCoO7L3KM5l"
      },
      "outputs": [],
      "source": [
        "a = [9, 7, 8,]"
      ]
    },
    {
      "cell_type": "code",
      "execution_count": null,
      "metadata": {
        "id": "TdSeurf1KNES"
      },
      "outputs": [],
      "source": [
        "a.append(4)"
      ]
    },
    {
      "cell_type": "code",
      "execution_count": null,
      "metadata": {
        "id": "uB1G7fFQKNGm"
      },
      "outputs": [],
      "source": [
        "print(a)"
      ]
    },
    {
      "cell_type": "code",
      "execution_count": null,
      "metadata": {
        "id": "u7MhUKu_KNIr"
      },
      "outputs": [],
      "source": [
        "a.extend([6, 4, 3,])"
      ]
    },
    {
      "cell_type": "code",
      "execution_count": null,
      "metadata": {
        "id": "Jc4dR4wuKNL-"
      },
      "outputs": [],
      "source": [
        "print(a)"
      ]
    },
    {
      "cell_type": "code",
      "execution_count": null,
      "metadata": {
        "id": "O0kk3SSG4lGj"
      },
      "outputs": [],
      "source": [
        "x = [3, 4, 5,]"
      ]
    },
    {
      "cell_type": "code",
      "execution_count": null,
      "metadata": {
        "id": "Bq6m3vRK4lOX"
      },
      "outputs": [],
      "source": [
        "nova = []\n",
        "for i in x:\n",
        "  nova.append(float(i))\n",
        "  print(nova)"
      ]
    },
    {
      "cell_type": "code",
      "execution_count": null,
      "metadata": {
        "id": "i5VrMzMcDR_f"
      },
      "outputs": [],
      "source": [
        "b = {3, 4, 5,}"
      ]
    },
    {
      "cell_type": "code",
      "execution_count": null,
      "metadata": {
        "id": "5foqKt4N4lev"
      },
      "outputs": [],
      "source": [
        "type(b)"
      ]
    },
    {
      "cell_type": "code",
      "execution_count": null,
      "metadata": {
        "id": "6yLDV5PJMcUF"
      },
      "outputs": [],
      "source": [
        "Print(x)"
      ]
    },
    {
      "cell_type": "markdown",
      "metadata": {
        "id": "JCkPGJowgL_w"
      },
      "source": [
        "Vela = 10"
      ]
    },
    {
      "cell_type": "code",
      "execution_count": null,
      "metadata": {
        "id": "egdE9iv4hZQW"
      },
      "outputs": [],
      "source": []
    },
    {
      "cell_type": "code",
      "execution_count": null,
      "metadata": {
        "id": "Jp19LPSOgYy_"
      },
      "outputs": [],
      "source": [
        "Vela = 200\n",
        "Insensi = 300"
      ]
    },
    {
      "cell_type": "markdown",
      "metadata": {
        "id": "hzGO19Eohc_y"
      },
      "source": []
    },
    {
      "cell_type": "markdown",
      "metadata": {
        "id": "-iFg5n7Ugd-1"
      },
      "source": [
        "If vela < isensia\n",
        " Print (oração)\n",
        "Eles:\n",
        " Print (reza)"
      ]
    },
    {
      "cell_type": "code",
      "execution_count": null,
      "metadata": {
        "id": "vTQdnkHNtsm1"
      },
      "outputs": [],
      "source": [
        "caracteres = [ i for i in 'rivonildo' ]"
      ]
    },
    {
      "cell_type": "code",
      "execution_count": null,
      "metadata": {
        "id": "-jY8FNHiuHo8"
      },
      "outputs": [],
      "source": [
        "print (caracteres)"
      ]
    },
    {
      "cell_type": "code",
      "execution_count": null,
      "metadata": {
        "id": "RJsmDvB4uQLA"
      },
      "outputs": [],
      "source": [
        "num = 5"
      ]
    },
    {
      "cell_type": "code",
      "execution_count": null,
      "metadata": {
        "id": "OwllM7knuZPs"
      },
      "outputs": [],
      "source": [
        "type(num)"
      ]
    },
    {
      "cell_type": "code",
      "execution_count": null,
      "metadata": {
        "id": "tYRNv1v6uc2D"
      },
      "outputs": [],
      "source": [
        "float(num)"
      ]
    },
    {
      "cell_type": "code",
      "execution_count": null,
      "metadata": {
        "id": "2swO5_i_uh7y"
      },
      "outputs": [],
      "source": [
        "int(num)"
      ]
    },
    {
      "cell_type": "code",
      "execution_count": null,
      "metadata": {
        "id": "1JFHayrzwhy0"
      },
      "outputs": [],
      "source": [
        "sobre_nome = input(' qual o seu sobre nome ')"
      ]
    },
    {
      "cell_type": "code",
      "execution_count": null,
      "metadata": {
        "id": "rLhFzmHOxdMF"
      },
      "outputs": [],
      "source": [
        "for i in sobre_nome:\n"
      ]
    },
    {
      "cell_type": "code",
      "execution_count": null,
      "metadata": {
        "id": "5dJwqaev0mlX"
      },
      "outputs": [],
      "source": [
        "import numpy as pd"
      ]
    },
    {
      "cell_type": "code",
      "execution_count": null,
      "metadata": {
        "id": "LtSXWYe00uTP"
      },
      "outputs": [],
      "source": [
        "d = numpy.eye(5, 8)\n",
        "print (d)"
      ]
    },
    {
      "cell_type": "code",
      "execution_count": null,
      "metadata": {
        "id": "S5w_h8tH0mmy"
      },
      "outputs": [],
      "source": []
    },
    {
      "cell_type": "markdown",
      "metadata": {
        "id": "ekFIFK-GE-sK"
      },
      "source": [
        "#matrizes"
      ]
    },
    {
      "cell_type": "code",
      "execution_count": null,
      "metadata": {
        "id": "mVWqEN7k2cnq"
      },
      "outputs": [],
      "source": [
        "# prompt:\n",
        "\n",
        "import numpy as np\n",
        "import matplotlib.pyplot as plt\n",
        "\n",
        "# Create a 2D array of random numbers\n",
        "x = np.random.randn(100, 100)\n",
        "\n",
        "# Plot the array\n",
        "plt.imshow(x, cmap='hot')\n",
        "plt.colorbar()\n",
        "plt.show()\n"
      ]
    },
    {
      "cell_type": "code",
      "execution_count": 32,
      "metadata": {
        "id": "lzuWLTH60oc1",
        "colab": {
          "base_uri": "https://localhost:8080/",
          "height": 148
        },
        "outputId": "4766786a-68ed-4cc7-fc9d-91b1149c9445"
      },
      "outputs": [
        {
          "output_type": "error",
          "ename": "NameError",
          "evalue": "name 'pd' is not defined",
          "traceback": [
            "\u001b[0;31m---------------------------------------------------------------------------\u001b[0m",
            "\u001b[0;31mNameError\u001b[0m                                 Traceback (most recent call last)",
            "\u001b[0;32m<ipython-input-32-f5b7f1d32b32>\u001b[0m in \u001b[0;36m<cell line: 1>\u001b[0;34m()\u001b[0m\n\u001b[0;32m----> 1\u001b[0;31m \u001b[0mb\u001b[0m \u001b[0;34m=\u001b[0m \u001b[0mpd\u001b[0m\u001b[0;34m.\u001b[0m\u001b[0marray\u001b[0m\u001b[0;34m(\u001b[0m\u001b[0;34m[\u001b[0m\u001b[0;34m(\u001b[0m\u001b[0;36m8\u001b[0m\u001b[0;34m,\u001b[0m \u001b[0;36m7\u001b[0m\u001b[0;34m,\u001b[0m \u001b[0;36m5\u001b[0m\u001b[0;34m)\u001b[0m\u001b[0;34m,\u001b[0m \u001b[0;34m(\u001b[0m\u001b[0;36m4\u001b[0m\u001b[0;34m,\u001b[0m \u001b[0;36m5\u001b[0m\u001b[0;34m,\u001b[0m \u001b[0;36m7\u001b[0m\u001b[0;34m)\u001b[0m\u001b[0;34m,\u001b[0m \u001b[0;34m(\u001b[0m\u001b[0;36m3\u001b[0m\u001b[0;34m,\u001b[0m \u001b[0;36m2\u001b[0m\u001b[0;34m,\u001b[0m \u001b[0;36m1\u001b[0m\u001b[0;34m)\u001b[0m\u001b[0;34m,\u001b[0m \u001b[0;34m(\u001b[0m\u001b[0;36m4\u001b[0m\u001b[0;34m,\u001b[0m \u001b[0;36m8\u001b[0m\u001b[0;34m,\u001b[0m \u001b[0;36m9\u001b[0m\u001b[0;34m)\u001b[0m\u001b[0;34m]\u001b[0m\u001b[0;34m)\u001b[0m\u001b[0;34m\u001b[0m\u001b[0;34m\u001b[0m\u001b[0m\n\u001b[0m",
            "\u001b[0;31mNameError\u001b[0m: name 'pd' is not defined"
          ]
        }
      ],
      "source": [
        "b = pd.array([(8, 7, 5), (4, 5, 7), (3, 2, 1), (4, 8, 9)])"
      ]
    },
    {
      "cell_type": "code",
      "execution_count": null,
      "metadata": {
        "id": "WWDH-TRJ1K2E"
      },
      "outputs": [],
      "source": [
        "print (b)"
      ]
    },
    {
      "cell_type": "code",
      "execution_count": 31,
      "metadata": {
        "id": "QkpzW8-QDePG",
        "colab": {
          "base_uri": "https://localhost:8080/",
          "height": 148
        },
        "outputId": "53f5ad12-f4e0-48ff-ebf7-2e07fa702f92"
      },
      "outputs": [
        {
          "output_type": "error",
          "ename": "NameError",
          "evalue": "name 'np' is not defined",
          "traceback": [
            "\u001b[0;31m---------------------------------------------------------------------------\u001b[0m",
            "\u001b[0;31mNameError\u001b[0m                                 Traceback (most recent call last)",
            "\u001b[0;32m<ipython-input-31-1c97e0593c70>\u001b[0m in \u001b[0;36m<cell line: 1>\u001b[0;34m()\u001b[0m\n\u001b[0;32m----> 1\u001b[0;31m \u001b[0mc\u001b[0m \u001b[0;34m=\u001b[0m \u001b[0mnp\u001b[0m\u001b[0;34m.\u001b[0m\u001b[0meye\u001b[0m\u001b[0;34m(\u001b[0m\u001b[0;36m10\u001b[0m\u001b[0;34m)\u001b[0m\u001b[0;34m\u001b[0m\u001b[0;34m\u001b[0m\u001b[0m\n\u001b[0m",
            "\u001b[0;31mNameError\u001b[0m: name 'np' is not defined"
          ]
        }
      ],
      "source": [
        "c = np.eye(10)"
      ]
    },
    {
      "cell_type": "code",
      "execution_count": null,
      "metadata": {
        "id": "r057rUOgEEFQ"
      },
      "outputs": [],
      "source": [
        "print (c)"
      ]
    },
    {
      "cell_type": "code",
      "execution_count": null,
      "metadata": {
        "id": "Cgi9Kw5SEOVI"
      },
      "outputs": [],
      "source": [
        "b.min()"
      ]
    },
    {
      "cell_type": "code",
      "execution_count": null,
      "metadata": {
        "id": "IwUGrl8gFVov"
      },
      "outputs": [],
      "source": []
    },
    {
      "cell_type": "code",
      "execution_count": null,
      "metadata": {
        "id": "Wu0UYk4yEZ88"
      },
      "outputs": [],
      "source": [
        "b.max()"
      ]
    },
    {
      "cell_type": "code",
      "execution_count": null,
      "metadata": {
        "id": "5f3crrBDEaF-"
      },
      "outputs": [],
      "source": [
        "b.sum()"
      ]
    },
    {
      "cell_type": "code",
      "execution_count": null,
      "metadata": {
        "id": "0D_CVTxbEaKG"
      },
      "outputs": [],
      "source": [
        "b.mean()"
      ]
    },
    {
      "cell_type": "code",
      "execution_count": null,
      "metadata": {
        "id": "9rooFqLaE6DM"
      },
      "outputs": [],
      "source": [
        "b.std()"
      ]
    },
    {
      "cell_type": "code",
      "execution_count": null,
      "metadata": {
        "id": "3ZtpBtGYE6Ki"
      },
      "outputs": [],
      "source": [
        "print('rivonildo e nota' , 5+5 )"
      ]
    },
    {
      "cell_type": "code",
      "execution_count": null,
      "metadata": {
        "id": "JPimw31qEaM_"
      },
      "outputs": [],
      "source": [
        "alicate = input()\n",
        "borda = 10\n"
      ]
    },
    {
      "cell_type": "code",
      "execution_count": null,
      "metadata": {
        "id": "isWxawHHEaP3"
      },
      "outputs": [],
      "source": [
        "def temAlicate():\n",
        "  borda = 10\n",
        "  alicate = 10\n",
        "  if alicate != borda:\n",
        "      print('verdade')\n",
        "  else:\n",
        "      print('mentira')\n"
      ]
    },
    {
      "cell_type": "code",
      "execution_count": null,
      "metadata": {
        "id": "O4ZsiHYgX4K0"
      },
      "outputs": [],
      "source": [
        "temAlicate()"
      ]
    },
    {
      "cell_type": "code",
      "execution_count": null,
      "metadata": {
        "id": "cj0C8smA-tYb"
      },
      "outputs": [],
      "source": [
        "h =10\n",
        "u = 8"
      ]
    },
    {
      "cell_type": "code",
      "execution_count": null,
      "metadata": {
        "id": "3iv2Y-BG-tgL"
      },
      "outputs": [],
      "source": [
        "if h < u:\n",
        "  print('verdade')\n",
        "else:\n"
      ]
    },
    {
      "cell_type": "code",
      "execution_count": null,
      "metadata": {
        "id": "tL80bgT0ZP64"
      },
      "outputs": [],
      "source": [
        "g = ' oi  nen vamos jogar bola'"
      ]
    },
    {
      "cell_type": "code",
      "execution_count": null,
      "metadata": {
        "id": "QD5_rX2tZQEL"
      },
      "outputs": [],
      "source": [
        "print(g*40)"
      ]
    },
    {
      "cell_type": "code",
      "execution_count": null,
      "metadata": {
        "id": "n6MeShl7X-7J"
      },
      "outputs": [],
      "source": [
        "idade1 = (input('qual a sua idade'))"
      ]
    },
    {
      "cell_type": "code",
      "execution_count": null,
      "metadata": {
        "id": "uEGzGOwbepIM"
      },
      "outputs": [],
      "source": [
        "cor1 = ('10 km com 25 litros')\n",
        "cor2 = ('20 km com 16 litros')"
      ]
    },
    {
      "cell_type": "code",
      "execution_count": null,
      "metadata": {
        "id": "SiC5R241epLL"
      },
      "outputs": [],
      "source": [
        "print('meu carro andou {0}, quando ele atingiu {1} cheguei ao meu destino' .format(cor1, cor2))"
      ]
    },
    {
      "cell_type": "code",
      "execution_count": null,
      "metadata": {
        "id": "CthUa3TbepQm"
      },
      "outputs": [],
      "source": [
        "print(' meu carro andou %s ' %cor1)"
      ]
    },
    {
      "cell_type": "code",
      "execution_count": null,
      "metadata": {
        "id": "MeI1zmheepWm"
      },
      "outputs": [],
      "source": [
        "import time\n",
        "contador = 0\n",
        "while contador < 10:\n",
        "  print('JESUS FILHO DE DEUS!')\n",
        "  contador = contador + 1\n",
        "  if contador == 6:\n",
        "    break\n",
        "  time.sleep(1)\n",
        "print('GRATIDAO SENHOR POR MAIS UM DIA!')\n",
        "if contador == 6:\n",
        " lapis = input(' HOJE TU SERA ABENÇOADO COM A UNÇAO DO SEU DEUS!')\n",
        " print('voçe e filho de Deus, tu es vencedor {}' .format(lapis))"
      ]
    },
    {
      "cell_type": "code",
      "execution_count": null,
      "metadata": {
        "id": "VIr0BnC5ajnM"
      },
      "outputs": [],
      "source": [
        "def bola():\n",
        "  print(\" a bola foi chutada a 10 metros \")\n",
        "  bola = input(\" digite um frase \")\n"
      ]
    },
    {
      "cell_type": "code",
      "execution_count": null,
      "metadata": {
        "id": "paAlyZNFrqbz"
      },
      "outputs": [],
      "source": [
        " bola = input(\" digite um frase \")"
      ]
    },
    {
      "cell_type": "code",
      "execution_count": null,
      "metadata": {
        "id": "RtRGac51sHjB"
      },
      "outputs": [],
      "source": [
        "print(bola)"
      ]
    },
    {
      "cell_type": "code",
      "execution_count": null,
      "metadata": {
        "id": "C5Fc33FHTFLG"
      },
      "outputs": [],
      "source": [
        "def palavras():\n",
        " for i in range(5):\n",
        "    print(i)\n",
        "palavras()"
      ]
    },
    {
      "cell_type": "code",
      "execution_count": null,
      "metadata": {
        "id": "cmBUS7vDaj3l"
      },
      "outputs": [],
      "source": [
        "bola()"
      ]
    },
    {
      "cell_type": "code",
      "execution_count": null,
      "metadata": {
        "id": "_8_z9l9bayEN"
      },
      "outputs": [],
      "source": [
        "fruta = \"laranja\""
      ]
    },
    {
      "cell_type": "code",
      "execution_count": null,
      "metadata": {
        "id": "6s5QOgbBayHY"
      },
      "outputs": [],
      "source": [
        "type(idade1)"
      ]
    },
    {
      "cell_type": "code",
      "execution_count": null,
      "metadata": {
        "id": "GgwFyGb-fXwa"
      },
      "outputs": [],
      "source": [
        "produtos = ['tv box', 'smart tv', 'fire stick', 'celular', 'tablet', 'computador']"
      ]
    },
    {
      "cell_type": "code",
      "execution_count": null,
      "metadata": {
        "id": "Q0k9GJqhfYFV"
      },
      "outputs": [],
      "source": [
        "Gordo = magro"
      ]
    },
    {
      "cell_type": "code",
      "execution_count": null,
      "metadata": {
        "id": "nnp0OtzSfYVy"
      },
      "outputs": [],
      "source": [
        "fruta = \"laranja\""
      ]
    },
    {
      "cell_type": "code",
      "execution_count": null,
      "metadata": {
        "id": "b2GDGCy0fsy_"
      },
      "outputs": [],
      "source": [
        "print (\"suco de %s e o meu favorito!\" %fruta)"
      ]
    },
    {
      "cell_type": "code",
      "execution_count": null,
      "metadata": {
        "id": "j0xhHUkCfs-B"
      },
      "outputs": [],
      "source": [
        "print(\" suco de {} e o meu favorito!\".format(fruta))"
      ]
    },
    {
      "cell_type": "code",
      "execution_count": null,
      "metadata": {
        "id": "e9gjF4WoftJN"
      },
      "outputs": [],
      "source": [
        "casa = input(\" 10% de 10 mil \")\n"
      ]
    },
    {
      "cell_type": "code",
      "execution_count": null,
      "metadata": {
        "id": "jXF6-tPuhcaZ"
      },
      "outputs": [],
      "source": [
        "soma = 4\n",
        "def soma():\n",
        "   if 2+5 == 4:\n",
        "    print(\"correto\")\n",
        "   elif 2-1 == 1:\n",
        "    for i in (soma):\n",
        "\n",
        "\n"
      ]
    },
    {
      "cell_type": "code",
      "execution_count": null,
      "metadata": {
        "id": "MsayBbyyhcjU"
      },
      "outputs": [],
      "source": [
        "soma()"
      ]
    },
    {
      "cell_type": "code",
      "execution_count": null,
      "metadata": {
        "id": "gVnrOzppkpsp"
      },
      "outputs": [],
      "source": [
        " estaSol = 8\n"
      ]
    },
    {
      "cell_type": "code",
      "execution_count": null,
      "metadata": {
        "id": "_lCsUkxCljxF"
      },
      "outputs": [],
      "source": [
        "estaChuvendo = 10"
      ]
    },
    {
      "cell_type": "code",
      "execution_count": null,
      "metadata": {
        "id": "gCn8GzZPlj1Y"
      },
      "outputs": [],
      "source": [
        " ligarSensor1 = estaSol >= estaChuvendo\n"
      ]
    },
    {
      "cell_type": "code",
      "execution_count": null,
      "metadata": {
        "id": "hFqD3rqvlj5f"
      },
      "outputs": [],
      "source": [
        "print(ligarSensor1)"
      ]
    },
    {
      "cell_type": "code",
      "execution_count": null,
      "metadata": {
        "id": "wPIzX_2Tlj9R"
      },
      "outputs": [],
      "source": [
        "if estaSol > estaChuvendo:\n",
        "  print(\"ligarSensor1\")\n",
        "\n",
        "else:\n",
        "  print(\"ligarSensor2\")"
      ]
    },
    {
      "cell_type": "code",
      "execution_count": null,
      "metadata": {
        "id": "NqzwOWVL5MaG"
      },
      "outputs": [],
      "source": [
        "print(True not False)"
      ]
    },
    {
      "cell_type": "code",
      "execution_count": null,
      "metadata": {
        "id": "NuuecV6Y5MrU"
      },
      "outputs": [],
      "source": [
        "proa = 2\n",
        "\n",
        "b = lambda b: barco / proa\n",
        "b(10)"
      ]
    },
    {
      "cell_type": "code",
      "execution_count": null,
      "metadata": {
        "id": "TuSKIP0shV2d"
      },
      "outputs": [],
      "source": [
        "type(proa)"
      ]
    },
    {
      "cell_type": "code",
      "execution_count": null,
      "metadata": {
        "id": "ZFSnJVHh5M8X"
      },
      "outputs": [],
      "source": [
        "b(40)"
      ]
    },
    {
      "cell_type": "code",
      "execution_count": null,
      "metadata": {
        "id": "MfMg6kSlVlwt"
      },
      "outputs": [],
      "source": [
        "nome = \"vitor\"\n",
        "\n",
        "print(\"ola eu sou {} lindo!\" .format(nome))\n",
        " qual e o seu nome\".\n",
        " '''\n",
        "print(mensagem)"
      ]
    },
    {
      "cell_type": "code",
      "execution_count": null,
      "metadata": {
        "id": "oDWoQ3mNVll8"
      },
      "outputs": [],
      "source": [
        "nome = \"vitor\"\n",
        "mensagem = f''' ola eu sou {nome},\n",
        " qual e o seu nome.\n",
        " '''\n",
        "print(mensagem)"
      ]
    },
    {
      "cell_type": "code",
      "execution_count": null,
      "metadata": {
        "id": "mwCePv1eVl53"
      },
      "outputs": [],
      "source": [
        "dados = {\"nome\":\"vitor\", \"idade\": 10, \"telefone\": \"74999140915\"}\n"
      ]
    },
    {
      "cell_type": "code",
      "execution_count": null,
      "metadata": {
        "id": "BTvPJf9iVhsr"
      },
      "outputs": [],
      "source": [
        "dados[\"nome\"]= \"moises\"\n",
        "dados[\"idade\"]= 6\n",
        "dados[\"telefone\"]= \"74999121024\""
      ]
    },
    {
      "cell_type": "code",
      "execution_count": null,
      "metadata": {
        "id": "7fPHNdDQVh3Y"
      },
      "outputs": [],
      "source": [
        "print(dados)"
      ]
    },
    {
      "cell_type": "code",
      "execution_count": null,
      "metadata": {
        "id": "2ZT3ORM7Vh_N"
      },
      "outputs": [],
      "source": []
    }
  ],
  "metadata": {
    "colab": {
      "provenance": [],
      "authorship_tag": "ABX9TyOWaatVBmLntt5YtSm73nGb",
      "include_colab_link": true
    },
    "kernelspec": {
      "display_name": "Python 3",
      "name": "python3"
    },
    "language_info": {
      "name": "python"
    }
  },
  "nbformat": 4,
  "nbformat_minor": 0
}